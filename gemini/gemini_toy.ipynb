{
 "cells": [
  {
   "cell_type": "markdown",
   "metadata": {
    "id": "2T-aXQttNz1T"
   },
   "source": [
    "# Setup\n",
    "\n",
    "Please ensure you have imported a Gemini API key from AI Studio.\n",
    "You can do this directly in the Secrets tab on the left.\n",
    "\n",
    "After doing so, please run the setup cell below."
   ]
  },
  {
   "cell_type": "code",
   "execution_count": null,
   "metadata": {
    "id": "tU0jKOOQNz1Z"
   },
   "outputs": [],
   "source": [
    "!pip install -U -q \"google\"\n",
    "!pip install -U -q \"google.genai\"\n",
    "\n",
    "# import os\n",
    "# from google.colab import userdata\n",
    "# from google.colab import drive\n",
    "# os.environ[\"GEMINI_API_KEY\"] = userdata.get(\"GOOGLE_API_KEY\")\n",
    "\n",
    "# drive.mount(\"/content/drive\")\n",
    "# Please ensure that uploaded files are available in the AI Studio folder or change the working folder.\n",
    "# os.chdir(\"/content/drive/MyDrive/Google AI Studio\")"
   ]
  },
  {
   "cell_type": "markdown",
   "metadata": {
    "id": "PAGLRXZRNz1b"
   },
   "source": [
    "# Generated Code"
   ]
  },
  {
   "cell_type": "code",
   "execution_count": null,
   "metadata": {
    "id": "0O0dMywmNz1b"
   },
   "outputs": [],
   "source": [
    "# To run this code you need to install the following dependencies:\n",
    "# pip install google-genai\n",
    "\n",
    "import base64\n",
    "import os\n",
    "from google import genai\n",
    "from google.genai import types\n",
    "\n",
    "\n",
    "def generate():\n",
    "    client = genai.Client(\n",
    "        api_key=os.environ.get(\"GEMINI_API_KEY\"),\n",
    "    )\n",
    "\n",
    "    model = \"gemini-2.5-pro-preview-06-05\"\n",
    "    contents = [\n",
    "        types.Content(\n",
    "            role=\"user\",\n",
    "            parts=[\n",
    "                types.Part.from_text(text=\"\"\"INSERT_INPUT_HERE\"\"\"),\n",
    "            ],\n",
    "        ),\n",
    "    ]\n",
    "    generate_content_config = types.GenerateContentConfig(\n",
    "        response_mime_type=\"text/plain\",\n",
    "    )\n",
    "\n",
    "    for chunk in client.models.generate_content_stream(\n",
    "        model=model,\n",
    "        contents=contents,\n",
    "        config=generate_content_config,\n",
    "    ):\n",
    "        print(chunk.text, end=\"\")\n",
    "\n",
    "if __name__ == \"__main__\":\n",
    "    generate()\n"
   ]
  }
 ],
 "metadata": {
  "colab": {
   "provenance": []
  },
  "language_info": {
   "name": "python"
  }
 },
 "nbformat": 4,
 "nbformat_minor": 0
}
